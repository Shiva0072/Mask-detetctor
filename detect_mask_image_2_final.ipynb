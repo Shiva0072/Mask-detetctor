{
 "cells": [
  {
   "cell_type": "code",
   "execution_count": 2,
   "metadata": {},
   "outputs": [],
   "source": [
    "from tensorflow.keras.preprocessing.image import img_to_array\n",
    "from tensorflow.keras.applications.mobilenet_v2 import preprocess_input\n",
    "from tensorflow.keras.models import load_model        #used for loading model from the disk\n",
    "import numpy as np\n",
    "import cv2\n",
    "import os"
   ]
  },
  {
   "cell_type": "code",
   "execution_count": 3,
   "metadata": {},
   "outputs": [],
   "source": [
    "img_path=os.path.join(os.getcwd(),'./examples/70-with-mask.jpg')                            \n",
    "face_cascade_path=os.path.join(os.getcwd(),'./face_detector/haarcascade_frontalface_default.xml')   #for face detection in the image\n",
    "model_path=os.path.join(os.getcwd(),'./mask_detector.model')"
   ]
  },
  {
   "cell_type": "code",
   "execution_count": 4,
   "metadata": {},
   "outputs": [],
   "source": [
    "model=load_model(model_path)"
   ]
  },
  {
   "cell_type": "code",
   "execution_count": 7,
   "metadata": {},
   "outputs": [],
   "source": [
    "img=cv2.imread(img_path)\n",
    "face_cascade=cv2.CascadeClassifier(face_cascade_path)\n",
    "gry=cv2.cvtColor(img,cv2.COLOR_BGR2GRAY)               #conversion to grayScale is required as a preprocessing step for harrCascade\n",
    "faces=face_cascade.detectMultiScale(gry,1.1,4)         #returns 4 coordinates of the face detected\n",
    "\n",
    "for (x,y,w,h) in faces:\n",
    "\n",
    "    face_roi=img[y:y+h,x:x+w]\n",
    "    face_gry=cv2.cvtColor(face_roi,cv2.COLOR_BGR2RGB)\n",
    "    \n",
    "    face=cv2.resize(face_gry,(224,224))\n",
    "    face=img_to_array(face)\n",
    "    face=preprocess_input(face)\n",
    "    face=np.expand_dims(face,axis=0)                   #this step is very very imp as the input tensor to the model is of the form (no. of examples,rows,cols,channels) in case of channel's first.\n",
    "    #the np.expand_dims adds an extra dimension which indicates a single example of the image on which inference has to be done\n",
    "\n",
    "    with_mask,without_mask=model.predict(face)[0]      #binary softmax output[prediction]===> [with_mask_class_probability,without_mask_class_probability]; 0 is used because it is for a single example\n",
    "   \n",
    "    label= 'mask' if with_mask>without_mask else 'without_mask'     # => get the max value then decide the class \n",
    "    color=  (0,255,0) if with_mask>without_mask else (0,0,255)  \n",
    "    \n",
    "    cv2.rectangle(img,(x,y),(x+w,y+h),color,3)\n",
    "    y_end=y-5 if y-5>5 else y+5                       #this is done to deal with the window border problems \n",
    "    cv2.putText(img,label,(x+10,y_end),cv2.FONT_HERSHEY_PLAIN,2,color,2)\n",
    "    \n",
    "    \n",
    "    \n",
    "cv2.imshow('feed',img)\n",
    "cv2.waitKey(0)\n",
    "cv2.destroyAllWindows()\n"
   ]
  },
  {
   "cell_type": "code",
   "execution_count": 8,
   "metadata": {},
   "outputs": [],
   "source": [
    "#carrying out the detection using the webcam \n",
    "cap=cv2.VideoCapture(0)\n",
    "face_cascade=cv2.CascadeClassifier('./face_detector/haarcascade_frontalface_default.xml')\n",
    "\n",
    "while cap.isOpened():\n",
    "    ret,frame=cap.read()\n",
    "    gry=cv2.cvtColor(frame,cv2.COLOR_BGR2GRAY)\n",
    "    faces=face_cascade.detectMultiScale(gry,1.1,4)\n",
    "    \n",
    "    for (x,y,w,h) in faces:\n",
    "        face_roi=frame[y:y+h,x:x+w]\n",
    "        face_gry=cv2.cvtColor(face_roi,cv2.COLOR_BGR2RGB)\n",
    "        face_gry=img_to_array(face_gry)\n",
    "        face_gry=cv2.resize(face_gry,(224,224))\n",
    "        face_gry=preprocess_input(face_gry)\n",
    "        face_gry=np.expand_dims(face_gry,axis=0)\n",
    "        \n",
    "        with_mask,without_mask=model.predict(face_gry)[0]\n",
    "        \n",
    "        label='with mask' if with_mask>without_mask else 'without mask'\n",
    "        color=(0,255,0) if with_mask>without_mask else (0,0,255)\n",
    "        \n",
    "        cv2.rectangle(frame,(x,y),(x+w,y+h),color,3)\n",
    "        y_end=y-5 if y-5>5 else y+5\n",
    "        cv2.putText(frame,label,(x+8,y_end),cv2.FONT_HERSHEY_PLAIN,2,color,2)\n",
    "        \n",
    "        cv2.imshow('LIVE',frame)\n",
    "        if(cv2.waitKey(1)==ord('q')):\n",
    "            cap.release()\n",
    "            cv2.destroyAllWindows()\n",
    "            break;\n"
   ]
  },
  {
   "cell_type": "code",
   "execution_count": null,
   "metadata": {},
   "outputs": [],
   "source": []
  }
 ],
 "metadata": {
  "kernelspec": {
   "display_name": "Python 3",
   "language": "python",
   "name": "python3"
  },
  "language_info": {
   "codemirror_mode": {
    "name": "ipython",
    "version": 3
   },
   "file_extension": ".py",
   "mimetype": "text/x-python",
   "name": "python",
   "nbconvert_exporter": "python",
   "pygments_lexer": "ipython3",
   "version": "3.6.9"
  }
 },
 "nbformat": 4,
 "nbformat_minor": 4
}
